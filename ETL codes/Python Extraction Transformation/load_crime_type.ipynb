{
 "cells": [
  {
   "cell_type": "code",
   "execution_count": 2,
   "id": "00821933-e62d-4510-b864-dbf68e180b29",
   "metadata": {},
   "outputs": [],
   "source": [
    "import pandas as pd"
   ]
  },
  {
   "cell_type": "code",
   "execution_count": 128,
   "id": "322abaa1-39bd-4c89-ab9a-18fe1fef4f2a",
   "metadata": {},
   "outputs": [],
   "source": [
    "# Load Chicago crime datasets for 2023 and 2024\n",
    "chicago_2023 = pd.read_csv('./datasets/Chicago_crime_incident_dataset_2023.csv')\n",
    "chicago_2024 = pd.read_csv('./datasets/Chicago_crime_incident_dataset_2024.csv')"
   ]
  },
  {
   "cell_type": "code",
   "execution_count": 130,
   "id": "f170aa10-6ab9-42b3-be29-d813d78450b9",
   "metadata": {},
   "outputs": [],
   "source": [
    "# Combine the datasets\n",
    "chicago_combined = pd.concat([chicago_2023, chicago_2024], ignore_index=True)"
   ]
  },
  {
   "cell_type": "code",
   "execution_count": 10,
   "id": "bfd27036-880f-4079-9f0c-fa2a4dc2f6fc",
   "metadata": {},
   "outputs": [],
   "source": [
    "chicago_combined.to_csv('./datasets/Chicago_crime_incident_dataset.csv', index=False)"
   ]
  },
  {
   "cell_type": "code",
   "execution_count": 28,
   "id": "049c31e5-e509-42bf-aa70-fd11dcd62edd",
   "metadata": {},
   "outputs": [],
   "source": [
    "# Create the 'Crime Description' column\n",
    "chicago_combined['Crime Description'] = chicago_combined['Primary Type'] + \": \" + chicago_combined['Description']"
   ]
  },
  {
   "cell_type": "code",
   "execution_count": 30,
   "id": "fd644157-2670-4645-9400-8f5f25784895",
   "metadata": {},
   "outputs": [],
   "source": [
    "# Filter relevant columns and drop duplicates based on 'IUCR' (CRIME_CODE)\n",
    "chicago_unique = chicago_combined[['IUCR', 'Crime Description']].drop_duplicates(subset='IUCR')"
   ]
  },
  {
   "cell_type": "code",
   "execution_count": 32,
   "id": "a5462649-b7ab-43f5-b856-235fd9885681",
   "metadata": {},
   "outputs": [],
   "source": [
    "# Rename columns to match the SQL table schema\n",
    "chicago_renamed = chicago_unique.rename(columns={\n",
    "    'IUCR': 'CRIME_CODE',\n",
    "    'Crime Description': 'CRIME_DESCRIPTION'\n",
    "})"
   ]
  },
  {
   "cell_type": "code",
   "execution_count": null,
   "id": "2bd9abe3-d606-4ca5-9bb4-0a63119b3897",
   "metadata": {},
   "outputs": [],
   "source": []
  },
  {
   "cell_type": "code",
   "execution_count": 4,
   "id": "3821856d-937e-480d-98c1-e2bb108a0f21",
   "metadata": {},
   "outputs": [],
   "source": [
    "boston_data = pd.read_csv('./datasets/Boston_crime_incident_dataset.csv', low_memory=False)"
   ]
  },
  {
   "cell_type": "code",
   "execution_count": 43,
   "id": "2cda3ca3-a435-4244-b3d2-e8fa7770a1a7",
   "metadata": {},
   "outputs": [],
   "source": [
    "boston_unique = boston_data[['OFFENSE_CODE', 'OFFENSE_DESCRIPTION']].drop_duplicates(subset='OFFENSE_CODE')"
   ]
  },
  {
   "cell_type": "code",
   "execution_count": 45,
   "id": "ee52873e-39a6-4840-9183-ca637e4356a3",
   "metadata": {},
   "outputs": [],
   "source": [
    "boston_renamed = boston_unique.rename(columns={\n",
    "    'OFFENSE_CODE': 'CRIME_CODE',\n",
    "    'OFFENSE_DESCRIPTION': 'CRIME_DESCRIPTION'\n",
    "})"
   ]
  },
  {
   "cell_type": "code",
   "execution_count": null,
   "id": "5072f8a2-424c-4632-ae7f-c963818bcc2f",
   "metadata": {},
   "outputs": [],
   "source": []
  },
  {
   "cell_type": "code",
   "execution_count": 48,
   "id": "107cbb10-8ece-46ca-86ef-a56a49b5e838",
   "metadata": {},
   "outputs": [],
   "source": [
    "# Combine the two dataframes\n",
    "combined_data = pd.concat([chicago_renamed, boston_renamed], ignore_index=True)"
   ]
  },
  {
   "cell_type": "code",
   "execution_count": 54,
   "id": "a4a51448-d0ab-405e-8de9-0b6a56199f6a",
   "metadata": {},
   "outputs": [],
   "source": [
    "# Save the combined data to a new CSV file\n",
    "combined_data.to_csv('./internal_datasets/crime_type_dataset.csv', index=False)"
   ]
  },
  {
   "cell_type": "code",
   "execution_count": null,
   "id": "cfce4714-cb1b-4fea-95c1-492a828133ef",
   "metadata": {},
   "outputs": [],
   "source": []
  },
  {
   "cell_type": "code",
   "execution_count": null,
   "id": "6c628947-55fa-4de0-b68e-639a59402199",
   "metadata": {},
   "outputs": [],
   "source": []
  },
  {
   "cell_type": "code",
   "execution_count": null,
   "id": "61f8d57a-3ad1-48e9-b92c-2cafc2479094",
   "metadata": {},
   "outputs": [],
   "source": []
  },
  {
   "cell_type": "code",
   "execution_count": 222,
   "id": "ccdc15c9-fbdf-4ca9-8986-a78d6ee3af89",
   "metadata": {},
   "outputs": [],
   "source": [
    "# Load datasets\n",
    "boston_data = pd.read_csv('./datasets/Boston_crime_incident_dataset.csv', low_memory=False)\n",
    "chicago_data = pd.read_csv('./datasets/Chicago_crime_incident_dataset.csv')"
   ]
  },
  {
   "cell_type": "code",
   "execution_count": 16,
   "id": "8ef3e006-b615-40da-91d7-04951ef9d0ae",
   "metadata": {},
   "outputs": [],
   "source": [
    "# Extract dates from Boston dataset\n",
    "boston_data['date'] = pd.to_datetime(boston_data['OCCURRED_ON_DATE']).dt.date"
   ]
  },
  {
   "cell_type": "code",
   "execution_count": 18,
   "id": "b1929ce7-f23a-4434-a1d3-e81e3b4fef90",
   "metadata": {},
   "outputs": [],
   "source": [
    "# Extract dates from Chicago dataset (handling both Date and Updated On)\n",
    "chicago_data['Date'] = pd.to_datetime(chicago_data['Date'], format='%m/%d/%Y %I:%M:%S %p').dt.date\n",
    "chicago_data['Updated On'] = pd.to_datetime(chicago_data['Updated On'], format='%m/%d/%Y %I:%M:%S %p').dt.date"
   ]
  },
  {
   "cell_type": "code",
   "execution_count": 20,
   "id": "4b2cd3f0-c2ae-4ee8-b6bd-684dba55e53b",
   "metadata": {},
   "outputs": [],
   "source": [
    "# Combine all date columns into one DataFrame\n",
    "combined_dates = pd.concat([\n",
    "    pd.DataFrame({'date': boston_data['date']}),\n",
    "    pd.DataFrame({'date': chicago_data['Date']}),\n",
    "    pd.DataFrame({'date': chicago_data['Updated On']})\n",
    "])"
   ]
  },
  {
   "cell_type": "code",
   "execution_count": 22,
   "id": "362e4906-ca8b-407d-afc0-b84a6a37b875",
   "metadata": {},
   "outputs": [],
   "source": [
    "# Remove duplicates and reset index\n",
    "unique_dates = combined_dates.drop_duplicates().reset_index(drop=True)"
   ]
  },
  {
   "cell_type": "code",
   "execution_count": 24,
   "id": "94b84c59-e20a-4bc3-acd5-16fbffc78d99",
   "metadata": {},
   "outputs": [],
   "source": [
    "# Extract year, month, and day into separate columns\n",
    "unique_dates['year'] = pd.to_datetime(unique_dates['date']).dt.year\n",
    "unique_dates['month'] = pd.to_datetime(unique_dates['date']).dt.month\n",
    "unique_dates['day'] = pd.to_datetime(unique_dates['date']).dt.day"
   ]
  },
  {
   "cell_type": "code",
   "execution_count": 26,
   "id": "38acb6c8-73bb-4c74-b5e0-ba3eea7fd31d",
   "metadata": {},
   "outputs": [],
   "source": [
    "# Drop the original 'date' column if not needed\n",
    "unique_dates = unique_dates[['year', 'month', 'day']]"
   ]
  },
  {
   "cell_type": "code",
   "execution_count": 28,
   "id": "bce163fa-26db-45a5-828c-af5afa0a90a2",
   "metadata": {},
   "outputs": [],
   "source": [
    "# Save to a CSV file for upload to the database\n",
    "unique_dates.to_csv('./internal_datasets/date_dimension.csv', index=False)"
   ]
  },
  {
   "cell_type": "code",
   "execution_count": null,
   "id": "d5cc96df-bd5e-4c8b-825e-6fc76593ec52",
   "metadata": {},
   "outputs": [],
   "source": []
  },
  {
   "cell_type": "code",
   "execution_count": null,
   "id": "bbfcbc6f-0eae-44ac-a9c2-a23d2e0a47c8",
   "metadata": {},
   "outputs": [],
   "source": []
  },
  {
   "cell_type": "code",
   "execution_count": 156,
   "id": "f686d389-0d20-4fcc-a139-0e76a75f0a23",
   "metadata": {},
   "outputs": [],
   "source": [
    "# Load Boston and Chicago datasets\n",
    "boston_data = pd.read_csv('./datasets/Boston_crime_incident_dataset.csv', low_memory=False)\n",
    "chicago_data = pd.read_csv('./datasets/Chicago_crime_incident_dataset.csv', low_memory=False)"
   ]
  },
  {
   "cell_type": "code",
   "execution_count": 135,
   "id": "3003f396-7ea8-4271-88d2-669b5c7e4e85",
   "metadata": {},
   "outputs": [],
   "source": [
    "# Boston dataset preparation\n",
    "boston_location = boston_data[['DISTRICT', 'STREET']].copy()\n",
    "boston_location['Ward'] = 0  # Default value for missing Ward\n",
    "boston_location['Community_area'] = 0  # Default value for missing Community Area"
   ]
  },
  {
   "cell_type": "code",
   "execution_count": 138,
   "id": "2221e6b8-73d1-4b4c-bdd7-d3131e3d39c2",
   "metadata": {},
   "outputs": [],
   "source": [
    "# Rename columns to match Location table structure\n",
    "boston_location.rename(columns={\n",
    "    'DISTRICT': 'District',\n",
    "    'STREET': 'Street'\n",
    "}, inplace=True)"
   ]
  },
  {
   "cell_type": "code",
   "execution_count": 140,
   "id": "e9bb1653-9b1c-411b-8212-2b5cc6fbc898",
   "metadata": {},
   "outputs": [],
   "source": [
    "# Chicago dataset preparation\n",
    "chicago_location = chicago_data[['District', 'Ward', 'Community Area', 'Block']].copy()\n",
    "chicago_location.rename(columns={\n",
    "    'Community Area': 'Community_area',\n",
    "    'Block': 'Street'\n",
    "}, inplace=True)"
   ]
  },
  {
   "cell_type": "code",
   "execution_count": 142,
   "id": "db0c6a0a-1c16-42af-8028-8d1b17a71269",
   "metadata": {},
   "outputs": [],
   "source": [
    "# Handle missing values and convert to appropriate data types\n",
    "chicago_location['Ward'] = chicago_location['Ward'].fillna(0).astype(int)\n",
    "chicago_location['Community_area'] = chicago_location['Community_area'].fillna(0).astype(int)\n",
    "chicago_location['District'] = chicago_location['District'].fillna('')\n",
    "chicago_location['Street'] = chicago_location['Street'].fillna('')"
   ]
  },
  {
   "cell_type": "code",
   "execution_count": 144,
   "id": "77601bcf-d6d6-431c-8281-21f7bfa62720",
   "metadata": {},
   "outputs": [],
   "source": [
    "boston_location.fillna('', inplace=True)"
   ]
  },
  {
   "cell_type": "code",
   "execution_count": 146,
   "id": "3062ecb8-94cc-4141-98bf-e72d10527741",
   "metadata": {},
   "outputs": [],
   "source": [
    "# Combine datasets\n",
    "combined_location = pd.concat([boston_location, chicago_location], ignore_index=True)"
   ]
  },
  {
   "cell_type": "code",
   "execution_count": 148,
   "id": "ac24777e-0ef5-4174-a3d3-2282afbbaf14",
   "metadata": {},
   "outputs": [],
   "source": [
    "# Remove duplicates if needed\n",
    "combined_location.drop_duplicates(inplace=True)"
   ]
  },
  {
   "cell_type": "code",
   "execution_count": 150,
   "id": "aeebafaf-0dfb-49ed-9271-376590209da5",
   "metadata": {},
   "outputs": [],
   "source": [
    "# Save to CSV\n",
    "combined_location.to_csv('./internal_datasets/location_dataset.csv', index=False)"
   ]
  },
  {
   "cell_type": "code",
   "execution_count": null,
   "id": "275ed697-fd3c-4219-b35a-860bab81af36",
   "metadata": {},
   "outputs": [],
   "source": []
  },
  {
   "cell_type": "code",
   "execution_count": 78,
   "id": "71090895-fe01-458e-a350-6cf12ac9aba0",
   "metadata": {},
   "outputs": [],
   "source": [
    "# Extract unique values from the REPORTING_AREA column\n",
    "reporting_area = boston_data[['REPORTING_AREA']].drop_duplicates()"
   ]
  },
  {
   "cell_type": "code",
   "execution_count": 80,
   "id": "27ab24a4-5dff-4152-beba-83a6ef947aa6",
   "metadata": {},
   "outputs": [],
   "source": [
    "reporting_area['REPORTING_AREA'] = reporting_area['REPORTING_AREA'].fillna('')"
   ]
  },
  {
   "cell_type": "code",
   "execution_count": 82,
   "id": "169a6fc6-3cf9-4481-83d9-c025e031c2f7",
   "metadata": {},
   "outputs": [],
   "source": [
    "# Rename the column to 'Code'\n",
    "reporting_area.rename(columns={'REPORTING_AREA': 'Code'}, inplace=True)"
   ]
  },
  {
   "cell_type": "code",
   "execution_count": 84,
   "id": "f77f8bc5-4169-40b1-9a60-089da0287cfe",
   "metadata": {},
   "outputs": [],
   "source": [
    "# Save the result to a CSV file\n",
    "reporting_area.to_csv('./internal_datasets/reporting_area.csv', index=False)"
   ]
  },
  {
   "cell_type": "code",
   "execution_count": null,
   "id": "d16507a4-32fd-4232-a2b1-588e25ec54e4",
   "metadata": {},
   "outputs": [],
   "source": []
  },
  {
   "cell_type": "code",
   "execution_count": 112,
   "id": "e1306d5b-40bf-4bed-a550-1222a772ddcc",
   "metadata": {},
   "outputs": [],
   "source": [
    "boston_day = boston_data[['OCCURRED_ON_DATE', 'YEAR', 'MONTH', 'DAY_OF_WEEK']].copy()"
   ]
  },
  {
   "cell_type": "code",
   "execution_count": 114,
   "id": "67f1608d-2a9c-4264-998b-420fbe5591b4",
   "metadata": {},
   "outputs": [],
   "source": [
    "# Remove trailing and leading whitespaces in 'DAY_OF_WEEK'\n",
    "boston_day['DAY_OF_WEEK'] = boston_day['DAY_OF_WEEK'].str.strip()"
   ]
  },
  {
   "cell_type": "code",
   "execution_count": 116,
   "id": "c959445c-037b-4616-a1d1-94774b5aa2f9",
   "metadata": {},
   "outputs": [],
   "source": [
    "# Extract Day from OCCURRED_ON_DATE\n",
    "boston_day['DAY'] = pd.to_datetime(boston_day['OCCURRED_ON_DATE']).dt.day"
   ]
  },
  {
   "cell_type": "code",
   "execution_count": 118,
   "id": "c07352eb-3248-4804-b8b7-2ed3cbd6eee7",
   "metadata": {},
   "outputs": [],
   "source": [
    "boston_day = boston_day[['YEAR', 'MONTH', 'DAY', 'DAY_OF_WEEK']].drop_duplicates()"
   ]
  },
  {
   "cell_type": "code",
   "execution_count": 120,
   "id": "f06bcce3-7285-4991-8461-f4c7e2190a64",
   "metadata": {},
   "outputs": [],
   "source": [
    "# Extract year, month, day, and day_of_week from Chicago data\n",
    "chicago_data['Date'] = pd.to_datetime(chicago_data['Date'], format='%m/%d/%Y %I:%M:%S %p')\n",
    "chicago_data['YEAR'] = chicago_data['Date'].dt.year\n",
    "chicago_data['MONTH'] = chicago_data['Date'].dt.month\n",
    "chicago_data['DAY'] = chicago_data['Date'].dt.day\n",
    "chicago_data['DAY_OF_WEEK'] = chicago_data['Date'].dt.day_name()"
   ]
  },
  {
   "cell_type": "code",
   "execution_count": 122,
   "id": "85ac26fe-12fe-41da-97a5-20bd72537123",
   "metadata": {},
   "outputs": [],
   "source": [
    "chicago_day = chicago_data[['YEAR', 'MONTH', 'DAY', 'DAY_OF_WEEK']].drop_duplicates()"
   ]
  },
  {
   "cell_type": "code",
   "execution_count": 124,
   "id": "b0605f11-edcb-49ab-9690-e8e22d51f107",
   "metadata": {},
   "outputs": [],
   "source": [
    "# Combine Chicago and Boston data\n",
    "combined_day = pd.concat([chicago_day, boston_day]).drop_duplicates()"
   ]
  },
  {
   "cell_type": "code",
   "execution_count": 126,
   "id": "a4a5ccfd-42bf-46f9-802d-9a7422264672",
   "metadata": {},
   "outputs": [],
   "source": [
    "# Save to CSV\n",
    "combined_day.to_csv('./internal_datasets/day_dimension.csv', index=False)"
   ]
  },
  {
   "cell_type": "code",
   "execution_count": null,
   "id": "8f0d85f1-f511-4fc7-a9b7-06f30bd0b1e3",
   "metadata": {},
   "outputs": [],
   "source": []
  },
  {
   "cell_type": "code",
   "execution_count": null,
   "id": "94ac3ecd-be4a-41d5-bae2-f7a2e11c40ce",
   "metadata": {},
   "outputs": [],
   "source": []
  },
  {
   "cell_type": "code",
   "execution_count": 225,
   "id": "c5dc828d-7d54-47cd-babf-983ebfd7acd9",
   "metadata": {},
   "outputs": [],
   "source": [
    "# Convert 'Date' and 'Updated On' columns to datetime\n",
    "chicago_data['Date'] = pd.to_datetime(chicago_data['Date'], errors='coerce')"
   ]
  },
  {
   "cell_type": "code",
   "execution_count": 229,
   "id": "976a7ce3-eb1a-44f2-8698-22b42e9547a3",
   "metadata": {},
   "outputs": [],
   "source": [
    "chicago_data['Updated On'] = pd.to_datetime(chicago_data['Updated On'], errors='coerce')"
   ]
  },
  {
   "cell_type": "code",
   "execution_count": 231,
   "id": "1bf360cb-c370-4eb7-a5db-abb57e7b6077",
   "metadata": {},
   "outputs": [],
   "source": [
    "# Extract Year, Month, Day, and Hour for 'Date'\n",
    "chicago_data['Year'] = chicago_data['Date'].dt.year\n",
    "chicago_data['Month'] = chicago_data['Date'].dt.month\n",
    "chicago_data['Day'] = chicago_data['Date'].dt.day\n",
    "chicago_data['Hour'] = chicago_data['Date'].dt.hour\n",
    "chicago_data['Day_of_week'] = chicago_data['Date'].dt.day_name()"
   ]
  },
  {
   "cell_type": "code",
   "execution_count": 233,
   "id": "e189400b-6988-4d89-8bdc-9161c7afb554",
   "metadata": {},
   "outputs": [],
   "source": [
    "# Extract Year, Month, and Day for 'Updated On'\n",
    "chicago_data['Updated_Year'] = chicago_data['Updated On'].dt.year\n",
    "chicago_data['Updated_Month'] = chicago_data['Updated On'].dt.month\n",
    "chicago_data['Updated_Day'] = chicago_data['Updated On'].dt.day"
   ]
  },
  {
   "cell_type": "code",
   "execution_count": 235,
   "id": "0996055e-b659-4491-bee0-a6e06b8474a5",
   "metadata": {},
   "outputs": [],
   "source": [
    "# Convert 'Arrest' and 'Domestic' to integers (1 for True, 0 for False)\n",
    "chicago_data['Arrest'] = chicago_data['Arrest'].astype(int)\n",
    "chicago_data['Domestic'] = chicago_data['Domestic'].astype(int)"
   ]
  },
  {
   "cell_type": "code",
   "execution_count": 237,
   "id": "354e5cc8-34d3-4c06-a394-7623d4fef472",
   "metadata": {},
   "outputs": [],
   "source": [
    "# Handle missing values for Ward and Community Area\n",
    "chicago_data.fillna({'Ward': 0, 'Community Area': 0}, inplace=True)"
   ]
  },
  {
   "cell_type": "code",
   "execution_count": 239,
   "id": "4da6a333-8f1d-4636-88fa-3f8bb57816dc",
   "metadata": {},
   "outputs": [],
   "source": [
    "# Handle missing values and convert to appropriate data types\n",
    "chicago_data['Ward'] = chicago_data['Ward'].fillna(0).astype(int)"
   ]
  },
  {
   "cell_type": "code",
   "execution_count": 241,
   "id": "77abefba-f1fb-420e-8fff-ea1fe4f85ebb",
   "metadata": {},
   "outputs": [],
   "source": [
    "chicago_data['Community Area'] = chicago_data['Community Area'].fillna(0).astype(int)"
   ]
  },
  {
   "cell_type": "code",
   "execution_count": 243,
   "id": "c81d5256-5244-48fc-9056-b3f450baef7a",
   "metadata": {},
   "outputs": [],
   "source": [
    "# Create the 'Crime Description' column\n",
    "chicago_data['Crime Description'] = chicago_data['Primary Type'] + \": \" + chicago_data['Description']"
   ]
  },
  {
   "cell_type": "code",
   "execution_count": 245,
   "id": "7e4fec7c-5c51-4b36-883d-9507c6579c01",
   "metadata": {},
   "outputs": [],
   "source": [
    "# Rename columns to match staging table conventions\n",
    "chicago_data.rename(columns={\n",
    "    'Case Number': 'Case_Number',\n",
    "    'Primary Type': 'Primary_Type',\n",
    "    'Crime Description': 'Crime_Description',\n",
    "    'Location Description': 'Location_Description',\n",
    "    'Community Area': 'Community_Area',\n",
    "    'Updated On': 'Updated_On',\n",
    "    'FBI Code': 'FBI_Code'\n",
    "}, inplace=True)"
   ]
  },
  {
   "cell_type": "code",
   "execution_count": 251,
   "id": "99a20e71-cea9-452e-a93a-c808868b3490",
   "metadata": {},
   "outputs": [],
   "source": [
    "# Select required columns\n",
    "columns_to_keep = [\n",
    "    'ID', 'Case_Number', 'Date', 'Year', 'Month', 'Day', 'Day_of_week', 'Hour', 'Block', 'IUCR', \n",
    "    'Primary_Type', 'Description', 'Crime_Description', 'Location_Description', 'Arrest', 'Domestic', \n",
    "    'Beat', 'District', 'Ward', 'Community_Area', 'FBI_Code', 'Updated_On', \n",
    "    'Updated_Year', 'Updated_Month', 'Updated_Day'\n",
    "]"
   ]
  },
  {
   "cell_type": "code",
   "execution_count": 253,
   "id": "9d4b33ca-1fa3-4f81-8242-17457483b3dc",
   "metadata": {},
   "outputs": [],
   "source": [
    "chicago_data = chicago_data[columns_to_keep]"
   ]
  },
  {
   "cell_type": "code",
   "execution_count": 255,
   "id": "899f6de9-84b8-4e0a-80ca-bb540eb440ae",
   "metadata": {},
   "outputs": [],
   "source": [
    "# Save the processed data to a CSV file\n",
    "chicago_data.to_csv('./internal_datasets/chicago_staging.csv', index=False)"
   ]
  },
  {
   "cell_type": "code",
   "execution_count": null,
   "id": "d36dfd37-f9b0-4ab3-ae0b-a73e789497ec",
   "metadata": {},
   "outputs": [],
   "source": []
  },
  {
   "cell_type": "code",
   "execution_count": null,
   "id": "aca35457-b59a-4dd3-8534-f3f0eec30e55",
   "metadata": {},
   "outputs": [],
   "source": []
  },
  {
   "cell_type": "code",
   "execution_count": 6,
   "id": "60ed6724-f58c-4526-b7c7-ce96e77f1d46",
   "metadata": {},
   "outputs": [],
   "source": [
    "# Remove trailing and leading whitespaces in 'DAY_OF_WEEK'\n",
    "boston_data['DAY_OF_WEEK'] = boston_data['DAY_OF_WEEK'].str.strip()"
   ]
  },
  {
   "cell_type": "code",
   "execution_count": 8,
   "id": "557cd491-c6d1-439d-9dfb-a1c56035f8c0",
   "metadata": {},
   "outputs": [],
   "source": [
    "# Convert 'OCCURED_ON_DATE' to datetime\n",
    "boston_data['OCCURRED_ON_DATE'] = pd.to_datetime(boston_data['OCCURRED_ON_DATE'], errors='coerce')"
   ]
  },
  {
   "cell_type": "code",
   "execution_count": 10,
   "id": "6ea00519-add0-4e44-bb6f-ed07828f4860",
   "metadata": {},
   "outputs": [],
   "source": [
    "# Extract DAY from 'OCCURED_ON_DATE'\n",
    "boston_data['DAY'] = boston_data['OCCURRED_ON_DATE'].dt.day"
   ]
  },
  {
   "cell_type": "code",
   "execution_count": 12,
   "id": "733d34e7-7e43-4e85-b24b-d4877c5f3194",
   "metadata": {},
   "outputs": [],
   "source": [
    "# Select only the required columns\n",
    "columns_to_keep = [\n",
    "    '_id', 'INCIDENT_NUMBER', 'OFFENSE_CODE', 'OFFENSE_DESCRIPTION', 'DISTRICT', \n",
    "    'REPORTING_AREA', 'SHOOTING', 'OCCURRED_ON_DATE', 'YEAR', 'MONTH', \n",
    "    'DAY_OF_WEEK', 'HOUR', 'STREET', 'DAY'\n",
    "]"
   ]
  },
  {
   "cell_type": "code",
   "execution_count": 14,
   "id": "b0c6edf2-23a5-47dd-b47f-6fdc8efebe44",
   "metadata": {},
   "outputs": [],
   "source": [
    "boston_data = boston_data[columns_to_keep]"
   ]
  },
  {
   "cell_type": "code",
   "execution_count": 16,
   "id": "354adc24-29c1-4aac-9822-9a1c9d28f6c7",
   "metadata": {},
   "outputs": [],
   "source": [
    "# Save the processed data to a CSV file\n",
    "boston_data.to_csv('./internal_datasets/boston_staging.csv', index=False)"
   ]
  },
  {
   "cell_type": "code",
   "execution_count": null,
   "id": "3a1f3115-cedf-4509-bff8-20d8aa3c91f4",
   "metadata": {},
   "outputs": [],
   "source": []
  }
 ],
 "metadata": {
  "kernelspec": {
   "display_name": "Python 3 (ipykernel)",
   "language": "python",
   "name": "python3"
  },
  "language_info": {
   "codemirror_mode": {
    "name": "ipython",
    "version": 3
   },
   "file_extension": ".py",
   "mimetype": "text/x-python",
   "name": "python",
   "nbconvert_exporter": "python",
   "pygments_lexer": "ipython3",
   "version": "3.12.4"
  }
 },
 "nbformat": 4,
 "nbformat_minor": 5
}
